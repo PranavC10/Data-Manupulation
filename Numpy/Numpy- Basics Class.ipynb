{
 "cells": [
  {
   "cell_type": "markdown",
   "id": "c95ca273",
   "metadata": {},
   "source": [
    "# NumPy\n",
    "\n",
    "NumPy is a Python package. It stands for 'Numerical Python'. It is a library consisting of multidimensional array objects and a collection of routines for processing of array.\n",
    "\n",
    "Installing NumPy : Go to Anaconda Prompt & Activate the environment in which you want to install then enter : pip install numpy"
   ]
  },
  {
   "cell_type": "markdown",
   "id": "dcf810be",
   "metadata": {},
   "source": [
    "## Note :\n",
    "You don’t need to memorize the name of a module or function. You can always search on the web about a specific module or you can refer to class notebooks. Although, once you start coding on a particular programming language after spending particular time, you will start remembering the names which you often use."
   ]
  },
  {
   "cell_type": "code",
   "execution_count": 2,
   "id": "6ed555e1",
   "metadata": {},
   "outputs": [],
   "source": [
    "import numpy as np"
   ]
  },
  {
   "cell_type": "code",
   "execution_count": 3,
   "id": "679935ce",
   "metadata": {},
   "outputs": [
    {
     "data": {
      "text/plain": [
       "'1.21.5'"
      ]
     },
     "execution_count": 3,
     "metadata": {},
     "output_type": "execute_result"
    }
   ],
   "source": [
    "np.__version__"
   ]
  },
  {
   "cell_type": "code",
   "execution_count": null,
   "id": "963499d9",
   "metadata": {},
   "outputs": [],
   "source": []
  },
  {
   "cell_type": "markdown",
   "id": "d79bb624",
   "metadata": {},
   "source": []
  },
  {
   "cell_type": "markdown",
   "id": "96324592",
   "metadata": {},
   "source": [
    "## Numpy Usecase\n"
   ]
  },
  {
   "cell_type": "markdown",
   "id": "2e13630a",
   "metadata": {},
   "source": []
  },
  {
   "cell_type": "code",
   "execution_count": 4,
   "id": "f3498ef0",
   "metadata": {},
   "outputs": [],
   "source": [
    "a=[1,2,3,4,6,7,\"abs\"]"
   ]
  },
  {
   "cell_type": "code",
   "execution_count": 5,
   "id": "bc4ab11b",
   "metadata": {},
   "outputs": [
    {
     "data": {
      "text/plain": [
       "[1, 2, 3, 4, 6, 7, 'abs']"
      ]
     },
     "execution_count": 5,
     "metadata": {},
     "output_type": "execute_result"
    }
   ],
   "source": [
    "a"
   ]
  },
  {
   "cell_type": "code",
   "execution_count": 6,
   "id": "f243b252",
   "metadata": {},
   "outputs": [
    {
     "data": {
      "text/plain": [
       "list"
      ]
     },
     "execution_count": 6,
     "metadata": {},
     "output_type": "execute_result"
    }
   ],
   "source": [
    "type(a)"
   ]
  },
  {
   "cell_type": "code",
   "execution_count": 7,
   "id": "5db52f92",
   "metadata": {},
   "outputs": [],
   "source": [
    "na=np.array(a)      #numpy uses only one datatype...here it hasconverted everything into string..'1','2','abs'.."
   ]
  },
  {
   "cell_type": "code",
   "execution_count": 8,
   "id": "431de995",
   "metadata": {},
   "outputs": [
    {
     "data": {
      "text/plain": [
       "array(['1', '2', '3', '4', '6', '7', 'abs'], dtype='<U11')"
      ]
     },
     "execution_count": 8,
     "metadata": {},
     "output_type": "execute_result"
    }
   ],
   "source": [
    "na                   #here it has converted everything into string..'1','2','abs'.."
   ]
  },
  {
   "cell_type": "code",
   "execution_count": 9,
   "id": "48187926",
   "metadata": {},
   "outputs": [
    {
     "data": {
      "text/plain": [
       "numpy.ndarray"
      ]
     },
     "execution_count": 9,
     "metadata": {},
     "output_type": "execute_result"
    }
   ],
   "source": [
    "type(na)"
   ]
  },
  {
   "cell_type": "code",
   "execution_count": 10,
   "id": "f5508c83",
   "metadata": {},
   "outputs": [
    {
     "data": {
      "text/plain": [
       "dtype('<U11')"
      ]
     },
     "execution_count": 10,
     "metadata": {},
     "output_type": "execute_result"
    }
   ],
   "source": [
    "#or\n",
    "na.dtype"
   ]
  },
  {
   "cell_type": "code",
   "execution_count": null,
   "id": "ce075a05",
   "metadata": {},
   "outputs": [],
   "source": []
  },
  {
   "cell_type": "code",
   "execution_count": 11,
   "id": "237bd7f3",
   "metadata": {},
   "outputs": [],
   "source": [
    "#lets try only with numbers now..."
   ]
  },
  {
   "cell_type": "code",
   "execution_count": 12,
   "id": "18d1190b",
   "metadata": {},
   "outputs": [],
   "source": [
    "b=[1, 2, 3, 4, 6, 7]"
   ]
  },
  {
   "cell_type": "code",
   "execution_count": 13,
   "id": "9128ffa8",
   "metadata": {},
   "outputs": [],
   "source": [
    "nb=np.array(b)"
   ]
  },
  {
   "cell_type": "code",
   "execution_count": 14,
   "id": "22e8458a",
   "metadata": {},
   "outputs": [
    {
     "data": {
      "text/plain": [
       "dtype('int32')"
      ]
     },
     "execution_count": 14,
     "metadata": {},
     "output_type": "execute_result"
    }
   ],
   "source": [
    "nb.dtype"
   ]
  },
  {
   "cell_type": "code",
   "execution_count": 15,
   "id": "e30787b7",
   "metadata": {},
   "outputs": [
    {
     "data": {
      "text/plain": [
       "array([1, 2, 3, 4, 6, 7])"
      ]
     },
     "execution_count": 15,
     "metadata": {},
     "output_type": "execute_result"
    }
   ],
   "source": [
    "nb                 ##here it has converted everything into int...1,2,3,..."
   ]
  },
  {
   "cell_type": "code",
   "execution_count": null,
   "id": "554ca225",
   "metadata": {},
   "outputs": [],
   "source": []
  },
  {
   "cell_type": "code",
   "execution_count": 16,
   "id": "05ae5c8f",
   "metadata": {},
   "outputs": [],
   "source": [
    "#lets try nested list now..."
   ]
  },
  {
   "cell_type": "code",
   "execution_count": 17,
   "id": "c0a7d008",
   "metadata": {},
   "outputs": [],
   "source": [
    "c=[[1,2,3],[4,5,6]]"
   ]
  },
  {
   "cell_type": "code",
   "execution_count": 18,
   "id": "c49bdf40",
   "metadata": {},
   "outputs": [
    {
     "data": {
      "text/plain": [
       "list"
      ]
     },
     "execution_count": 18,
     "metadata": {},
     "output_type": "execute_result"
    }
   ],
   "source": [
    "type(c)"
   ]
  },
  {
   "cell_type": "code",
   "execution_count": 19,
   "id": "e1673f95",
   "metadata": {},
   "outputs": [],
   "source": [
    "nc=np.array(c)"
   ]
  },
  {
   "cell_type": "code",
   "execution_count": 20,
   "id": "bd475c41",
   "metadata": {},
   "outputs": [
    {
     "data": {
      "text/plain": [
       "array([[1, 2, 3],\n",
       "       [4, 5, 6]])"
      ]
     },
     "execution_count": 20,
     "metadata": {},
     "output_type": "execute_result"
    }
   ],
   "source": [
    "nc"
   ]
  },
  {
   "cell_type": "code",
   "execution_count": 21,
   "id": "d0fb1259",
   "metadata": {},
   "outputs": [
    {
     "data": {
      "text/plain": [
       "array([1, 2, 3])"
      ]
     },
     "execution_count": 21,
     "metadata": {},
     "output_type": "execute_result"
    }
   ],
   "source": [
    "nc[0]"
   ]
  },
  {
   "cell_type": "code",
   "execution_count": 22,
   "id": "2b4212c9",
   "metadata": {},
   "outputs": [],
   "source": [
    "#try to find 4"
   ]
  },
  {
   "cell_type": "code",
   "execution_count": 23,
   "id": "f204bf34",
   "metadata": {},
   "outputs": [
    {
     "data": {
      "text/plain": [
       "4"
      ]
     },
     "execution_count": 23,
     "metadata": {},
     "output_type": "execute_result"
    }
   ],
   "source": [
    "nc[1][0]"
   ]
  },
  {
   "cell_type": "code",
   "execution_count": 24,
   "id": "d04900e1",
   "metadata": {},
   "outputs": [],
   "source": [
    "#try to find 6"
   ]
  },
  {
   "cell_type": "code",
   "execution_count": 25,
   "id": "e932b6ee",
   "metadata": {},
   "outputs": [
    {
     "data": {
      "text/plain": [
       "6"
      ]
     },
     "execution_count": 25,
     "metadata": {},
     "output_type": "execute_result"
    }
   ],
   "source": [
    "nc[1][2]"
   ]
  },
  {
   "cell_type": "code",
   "execution_count": 26,
   "id": "b90c7c4b",
   "metadata": {},
   "outputs": [],
   "source": [
    "#try to find 3"
   ]
  },
  {
   "cell_type": "code",
   "execution_count": 27,
   "id": "c249a26d",
   "metadata": {},
   "outputs": [
    {
     "data": {
      "text/plain": [
       "3"
      ]
     },
     "execution_count": 27,
     "metadata": {},
     "output_type": "execute_result"
    }
   ],
   "source": [
    "nc[0][2]"
   ]
  },
  {
   "cell_type": "code",
   "execution_count": null,
   "id": "51526412",
   "metadata": {},
   "outputs": [],
   "source": []
  },
  {
   "cell_type": "code",
   "execution_count": null,
   "id": "dc7b0d92",
   "metadata": {},
   "outputs": [],
   "source": []
  },
  {
   "cell_type": "code",
   "execution_count": 28,
   "id": "3c6e6def",
   "metadata": {},
   "outputs": [],
   "source": [
    "y=np.array([1,2,3,4,5])"
   ]
  },
  {
   "cell_type": "code",
   "execution_count": 29,
   "id": "e653d88c",
   "metadata": {},
   "outputs": [],
   "source": [
    "z=y"
   ]
  },
  {
   "cell_type": "code",
   "execution_count": 30,
   "id": "46a446f3",
   "metadata": {},
   "outputs": [
    {
     "data": {
      "text/plain": [
       "array([1, 2, 3, 4, 5])"
      ]
     },
     "execution_count": 30,
     "metadata": {},
     "output_type": "execute_result"
    }
   ],
   "source": [
    "z"
   ]
  },
  {
   "cell_type": "code",
   "execution_count": 31,
   "id": "1a142fe8",
   "metadata": {},
   "outputs": [
    {
     "name": "stdout",
     "output_type": "stream",
     "text": [
      "True\n"
     ]
    }
   ],
   "source": [
    "print(y is z)"
   ]
  },
  {
   "cell_type": "code",
   "execution_count": 32,
   "id": "7b2b4ba4",
   "metadata": {},
   "outputs": [
    {
     "data": {
      "text/plain": [
       "5"
      ]
     },
     "execution_count": 32,
     "metadata": {},
     "output_type": "execute_result"
    }
   ],
   "source": [
    "z[4]"
   ]
  },
  {
   "cell_type": "code",
   "execution_count": 33,
   "id": "428804d6",
   "metadata": {},
   "outputs": [
    {
     "data": {
      "text/plain": [
       "5"
      ]
     },
     "execution_count": 33,
     "metadata": {},
     "output_type": "execute_result"
    }
   ],
   "source": [
    "y[4]"
   ]
  },
  {
   "cell_type": "code",
   "execution_count": 34,
   "id": "3d4a3410",
   "metadata": {},
   "outputs": [],
   "source": [
    "#modifying the array now\n",
    "z[4]=10"
   ]
  },
  {
   "cell_type": "code",
   "execution_count": 35,
   "id": "091a9304",
   "metadata": {},
   "outputs": [
    {
     "data": {
      "text/plain": [
       "10"
      ]
     },
     "execution_count": 35,
     "metadata": {},
     "output_type": "execute_result"
    }
   ],
   "source": [
    "y[4]                     #shallow copy"
   ]
  },
  {
   "cell_type": "code",
   "execution_count": 36,
   "id": "c34b6a51",
   "metadata": {},
   "outputs": [
    {
     "data": {
      "text/plain": [
       "array([ 1,  2,  3,  4, 10])"
      ]
     },
     "execution_count": 36,
     "metadata": {},
     "output_type": "execute_result"
    }
   ],
   "source": [
    "z                         ##shallow copy"
   ]
  },
  {
   "cell_type": "code",
   "execution_count": 37,
   "id": "25448752",
   "metadata": {},
   "outputs": [
    {
     "data": {
      "text/plain": [
       "array([ 1,  2,  3,  4, 10])"
      ]
     },
     "execution_count": 37,
     "metadata": {},
     "output_type": "execute_result"
    }
   ],
   "source": [
    "y"
   ]
  },
  {
   "cell_type": "code",
   "execution_count": 38,
   "id": "eca90154",
   "metadata": {},
   "outputs": [
    {
     "name": "stdout",
     "output_type": "stream",
     "text": [
      "True\n"
     ]
    }
   ],
   "source": [
    "print(z is y)           #shallow copy     #here z and y are same objects as we equaled them in cell 45\n",
    "                                           #only if same objects..true or else false"
   ]
  },
  {
   "cell_type": "code",
   "execution_count": null,
   "id": "f16ed283",
   "metadata": {},
   "outputs": [],
   "source": []
  },
  {
   "cell_type": "code",
   "execution_count": 39,
   "id": "345d6cf5",
   "metadata": {},
   "outputs": [],
   "source": [
    "#lets try deep copy now"
   ]
  },
  {
   "cell_type": "code",
   "execution_count": 40,
   "id": "d8c38177",
   "metadata": {},
   "outputs": [],
   "source": [
    "p=np.array([23,44,55,66,77,88])"
   ]
  },
  {
   "cell_type": "code",
   "execution_count": 41,
   "id": "4ff5e07f",
   "metadata": {},
   "outputs": [
    {
     "data": {
      "text/plain": [
       "array([23, 44, 55, 66, 77, 88])"
      ]
     },
     "execution_count": 41,
     "metadata": {},
     "output_type": "execute_result"
    }
   ],
   "source": [
    "p"
   ]
  },
  {
   "cell_type": "code",
   "execution_count": 42,
   "id": "9696109d",
   "metadata": {},
   "outputs": [],
   "source": [
    "q=np.copy(p)                ##Deep copy"
   ]
  },
  {
   "cell_type": "code",
   "execution_count": 43,
   "id": "e1adac9e",
   "metadata": {},
   "outputs": [
    {
     "data": {
      "text/plain": [
       "array([23, 44, 55, 66, 77, 88])"
      ]
     },
     "execution_count": 43,
     "metadata": {},
     "output_type": "execute_result"
    }
   ],
   "source": [
    "p"
   ]
  },
  {
   "cell_type": "code",
   "execution_count": 44,
   "id": "bd72a16a",
   "metadata": {},
   "outputs": [
    {
     "name": "stdout",
     "output_type": "stream",
     "text": [
      "False\n"
     ]
    }
   ],
   "source": [
    "print(p is q)               #deep copy   #here p and q are not the same objects"
   ]
  },
  {
   "cell_type": "code",
   "execution_count": 45,
   "id": "ed847efc",
   "metadata": {},
   "outputs": [
    {
     "data": {
      "text/plain": [
       "array([23, 44, 55, 66, 77, 88])"
      ]
     },
     "execution_count": 45,
     "metadata": {},
     "output_type": "execute_result"
    }
   ],
   "source": [
    "p"
   ]
  },
  {
   "cell_type": "code",
   "execution_count": 46,
   "id": "1f304ac5",
   "metadata": {},
   "outputs": [],
   "source": [
    "p[2]=50"
   ]
  },
  {
   "cell_type": "code",
   "execution_count": 47,
   "id": "472dc7cb",
   "metadata": {},
   "outputs": [
    {
     "data": {
      "text/plain": [
       "array([23, 44, 50, 66, 77, 88])"
      ]
     },
     "execution_count": 47,
     "metadata": {},
     "output_type": "execute_result"
    }
   ],
   "source": [
    "p"
   ]
  },
  {
   "cell_type": "code",
   "execution_count": 48,
   "id": "8d3fda18",
   "metadata": {},
   "outputs": [
    {
     "data": {
      "text/plain": [
       "array([23, 44, 55, 66, 77, 88])"
      ]
     },
     "execution_count": 48,
     "metadata": {},
     "output_type": "execute_result"
    }
   ],
   "source": [
    "q                                 #here 2 index of q did not change like the way it changed in p"
   ]
  },
  {
   "cell_type": "code",
   "execution_count": 49,
   "id": "03f4125f",
   "metadata": {},
   "outputs": [
    {
     "data": {
      "text/plain": [
       "array([ True,  True, False,  True,  True,  True])"
      ]
     },
     "execution_count": 49,
     "metadata": {},
     "output_type": "execute_result"
    }
   ],
   "source": [
    "p==q                               #now after making q equal to p, that is the result below"
   ]
  },
  {
   "cell_type": "code",
   "execution_count": null,
   "id": "db8fece3",
   "metadata": {},
   "outputs": [],
   "source": []
  },
  {
   "cell_type": "code",
   "execution_count": 50,
   "id": "81dd16e8",
   "metadata": {},
   "outputs": [
    {
     "name": "stdout",
     "output_type": "stream",
     "text": [
      "1\n",
      "3\n",
      "5\n",
      "7\n",
      "9\n",
      "11\n",
      "13\n",
      "15\n",
      "17\n",
      "19\n",
      "21\n",
      "23\n"
     ]
    }
   ],
   "source": [
    "for i in range(1,24,2):\n",
    "    print(i)"
   ]
  },
  {
   "cell_type": "code",
   "execution_count": 51,
   "id": "e452203f",
   "metadata": {},
   "outputs": [
    {
     "ename": "TypeError",
     "evalue": "'float' object cannot be interpreted as an integer",
     "output_type": "error",
     "traceback": [
      "\u001b[1;31m---------------------------------------------------------------------------\u001b[0m",
      "\u001b[1;31mTypeError\u001b[0m                                 Traceback (most recent call last)",
      "Input \u001b[1;32mIn [51]\u001b[0m, in \u001b[0;36m<cell line: 1>\u001b[1;34m()\u001b[0m\n\u001b[1;32m----> 1\u001b[0m \u001b[38;5;28;01mfor\u001b[39;00m i \u001b[38;5;129;01min\u001b[39;00m \u001b[38;5;28;43mrange\u001b[39;49m\u001b[43m(\u001b[49m\u001b[38;5;241;43m0.5\u001b[39;49m\u001b[43m,\u001b[49m\u001b[38;5;241;43m24\u001b[39;49m\u001b[43m,\u001b[49m\u001b[38;5;241;43m0.5\u001b[39;49m\u001b[43m)\u001b[49m:\n\u001b[0;32m      2\u001b[0m     \u001b[38;5;28mprint\u001b[39m(i)\n",
      "\u001b[1;31mTypeError\u001b[0m: 'float' object cannot be interpreted as an integer"
     ]
    }
   ],
   "source": [
    "for i in range(0.5,24,0.5):\n",
    "    print(i)                            #limitation of python range.. it can't print floats in range"
   ]
  },
  {
   "cell_type": "code",
   "execution_count": 52,
   "id": "da227773",
   "metadata": {},
   "outputs": [
    {
     "name": "stdout",
     "output_type": "stream",
     "text": [
      "0.5\n",
      "1.0\n",
      "1.5\n",
      "2.0\n",
      "2.5\n",
      "3.0\n",
      "3.5\n",
      "4.0\n",
      "4.5\n",
      "5.0\n",
      "5.5\n",
      "6.0\n",
      "6.5\n",
      "7.0\n",
      "7.5\n",
      "8.0\n",
      "8.5\n",
      "9.0\n",
      "9.5\n",
      "10.0\n",
      "10.5\n",
      "11.0\n",
      "11.5\n",
      "12.0\n",
      "12.5\n",
      "13.0\n",
      "13.5\n",
      "14.0\n",
      "14.5\n",
      "15.0\n",
      "15.5\n",
      "16.0\n",
      "16.5\n",
      "17.0\n",
      "17.5\n",
      "18.0\n",
      "18.5\n",
      "19.0\n",
      "19.5\n",
      "20.0\n",
      "20.5\n",
      "21.0\n",
      "21.5\n",
      "22.0\n",
      "22.5\n",
      "23.0\n",
      "23.5\n"
     ]
    }
   ],
   "source": [
    "## So, we use numpy a-range/arange to print floats also...like below\n",
    "\n",
    "for i in np.arange(0.5,24,0.5):\n",
    "    print(i)                             # A-range/arange means Array Range... in numpy can take floats also\n",
    "                                            #arange is more advance than numpy arange"
   ]
  },
  {
   "cell_type": "code",
   "execution_count": 53,
   "id": "9e80faa4",
   "metadata": {},
   "outputs": [],
   "source": [
    "## Just for practice....\n",
    "\n",
    "xyz = np.arange(0.5,10.5,0.5)"
   ]
  },
  {
   "cell_type": "code",
   "execution_count": 54,
   "id": "2390e489",
   "metadata": {},
   "outputs": [
    {
     "data": {
      "text/plain": [
       "array([ 0.5,  1. ,  1.5,  2. ,  2.5,  3. ,  3.5,  4. ,  4.5,  5. ,  5.5,\n",
       "        6. ,  6.5,  7. ,  7.5,  8. ,  8.5,  9. ,  9.5, 10. ])"
      ]
     },
     "execution_count": 54,
     "metadata": {},
     "output_type": "execute_result"
    }
   ],
   "source": [
    "xyz"
   ]
  },
  {
   "cell_type": "code",
   "execution_count": 55,
   "id": "4a2b4008",
   "metadata": {},
   "outputs": [
    {
     "ename": "SyntaxError",
     "evalue": "invalid syntax (1501147230.py, line 1)",
     "output_type": "error",
     "traceback": [
      "\u001b[1;36m  Input \u001b[1;32mIn [55]\u001b[1;36m\u001b[0m\n\u001b[1;33m    np.arange(0.5:25)\u001b[0m\n\u001b[1;37m                 ^\u001b[0m\n\u001b[1;31mSyntaxError\u001b[0m\u001b[1;31m:\u001b[0m invalid syntax\n"
     ]
    }
   ],
   "source": [
    "np.arange(0.5:25)"
   ]
  },
  {
   "cell_type": "code",
   "execution_count": 56,
   "id": "caf950de",
   "metadata": {},
   "outputs": [
    {
     "data": {
      "text/plain": [
       "array([ 0.5,  1.5,  2.5,  3.5,  4.5,  5.5,  6.5,  7.5,  8.5,  9.5, 10.5,\n",
       "       11.5, 12.5, 13.5, 14.5, 15.5, 16.5, 17.5, 18.5, 19.5, 20.5, 21.5,\n",
       "       22.5, 23.5, 24.5])"
      ]
     },
     "execution_count": 56,
     "metadata": {},
     "output_type": "execute_result"
    }
   ],
   "source": [
    "np.arange(0.5,25)"
   ]
  },
  {
   "cell_type": "code",
   "execution_count": 57,
   "id": "3e0f217e",
   "metadata": {},
   "outputs": [
    {
     "data": {
      "text/plain": [
       "array([ 2.5,  3.5,  4.5,  5.5,  6.5,  7.5,  8.5,  9.5, 10.5, 11.5, 12.5,\n",
       "       13.5, 14.5])"
      ]
     },
     "execution_count": 57,
     "metadata": {},
     "output_type": "execute_result"
    }
   ],
   "source": [
    "np.arange(2.5,15.5)"
   ]
  },
  {
   "cell_type": "code",
   "execution_count": 58,
   "id": "82313c1c",
   "metadata": {},
   "outputs": [
    {
     "name": "stdout",
     "output_type": "stream",
     "text": [
      "1\n",
      "2\n",
      "3\n",
      "4\n",
      "5\n",
      "6\n",
      "7\n",
      "8\n",
      "9\n"
     ]
    }
   ],
   "source": [
    "for m in range(1,10):\n",
    "    print(m)\n"
   ]
  },
  {
   "cell_type": "code",
   "execution_count": 59,
   "id": "51e917d2",
   "metadata": {},
   "outputs": [
    {
     "ename": "SyntaxError",
     "evalue": "invalid syntax (2646861720.py, line 1)",
     "output_type": "error",
     "traceback": [
      "\u001b[1;36m  Input \u001b[1;32mIn [59]\u001b[1;36m\u001b[0m\n\u001b[1;33m    h=range(6,24):\u001b[0m\n\u001b[1;37m                 ^\u001b[0m\n\u001b[1;31mSyntaxError\u001b[0m\u001b[1;31m:\u001b[0m invalid syntax\n"
     ]
    }
   ],
   "source": [
    "h=range(6,24):\n",
    "    print(h)      ...# just practicing to see where I am committing silly mistakes...here the total syntax is wrong for range"
   ]
  },
  {
   "cell_type": "code",
   "execution_count": 60,
   "id": "ad28c2c1",
   "metadata": {},
   "outputs": [
    {
     "ename": "NameError",
     "evalue": "name 'h' is not defined",
     "output_type": "error",
     "traceback": [
      "\u001b[1;31m---------------------------------------------------------------------------\u001b[0m",
      "\u001b[1;31mNameError\u001b[0m                                 Traceback (most recent call last)",
      "Input \u001b[1;32mIn [60]\u001b[0m, in \u001b[0;36m<cell line: 1>\u001b[1;34m()\u001b[0m\n\u001b[1;32m----> 1\u001b[0m \u001b[43mh\u001b[49m\n",
      "\u001b[1;31mNameError\u001b[0m: name 'h' is not defined"
     ]
    }
   ],
   "source": [
    "h"
   ]
  },
  {
   "cell_type": "markdown",
   "id": "f9ca13f9",
   "metadata": {},
   "source": [
    "# String to numpy array"
   ]
  },
  {
   "cell_type": "code",
   "execution_count": 61,
   "id": "65729dd9",
   "metadata": {},
   "outputs": [],
   "source": [
    "a=(\"surya\",\"teja\",\"kolusu\")"
   ]
  },
  {
   "cell_type": "code",
   "execution_count": 62,
   "id": "b67eb7cc",
   "metadata": {},
   "outputs": [
    {
     "data": {
      "text/plain": [
       "('surya', 'teja', 'kolusu')"
      ]
     },
     "execution_count": 62,
     "metadata": {},
     "output_type": "execute_result"
    }
   ],
   "source": [
    "a\n"
   ]
  },
  {
   "cell_type": "code",
   "execution_count": 63,
   "id": "07001c92",
   "metadata": {},
   "outputs": [],
   "source": [
    "a=np.array(a)"
   ]
  },
  {
   "cell_type": "code",
   "execution_count": 64,
   "id": "64ddac56",
   "metadata": {},
   "outputs": [
    {
     "data": {
      "text/plain": [
       "array(['surya', 'teja', 'kolusu'], dtype='<U6')"
      ]
     },
     "execution_count": 64,
     "metadata": {},
     "output_type": "execute_result"
    }
   ],
   "source": [
    "a"
   ]
  },
  {
   "cell_type": "code",
   "execution_count": null,
   "id": "85a60090",
   "metadata": {},
   "outputs": [],
   "source": []
  },
  {
   "cell_type": "code",
   "execution_count": 65,
   "id": "a5efe89e",
   "metadata": {},
   "outputs": [
    {
     "data": {
      "text/plain": [
       "'1B2C3C'"
      ]
     },
     "execution_count": 65,
     "metadata": {},
     "output_type": "execute_result"
    }
   ],
   "source": [
    "\"1B2C3C\""
   ]
  },
  {
   "cell_type": "code",
   "execution_count": 66,
   "id": "019f9b55",
   "metadata": {},
   "outputs": [
    {
     "ename": "SyntaxError",
     "evalue": "invalid syntax (1201337358.py, line 3)",
     "output_type": "error",
     "traceback": [
      "\u001b[1;36m  Input \u001b[1;32mIn [66]\u001b[1;36m\u001b[0m\n\u001b[1;33m    np.fromstring(\"1C2C3C\",sep=\"C\")      .....# from the string above, u are 'sep'arating C and making array 1,2,3\u001b[0m\n\u001b[1;37m                                         ^\u001b[0m\n\u001b[1;31mSyntaxError\u001b[0m\u001b[1;31m:\u001b[0m invalid syntax\n"
     ]
    }
   ],
   "source": [
    "#separate the alphabets btwn the string above...like this...\n",
    "\n",
    "np.fromstring(\"1C2C3C\",sep=\"C\")      .....# from the string above, u are 'sep'arating C and making array 1,2,3\n",
    "                                          "
   ]
  },
  {
   "cell_type": "code",
   "execution_count": 67,
   "id": "7d76706e",
   "metadata": {},
   "outputs": [
    {
     "data": {
      "text/plain": [
       "15.0"
      ]
     },
     "execution_count": 67,
     "metadata": {},
     "output_type": "execute_result"
    }
   ],
   "source": [
    "np.fromstring(\"1$2$3$4$5$\", sep=\"$\").sum()"
   ]
  },
  {
   "cell_type": "code",
   "execution_count": 68,
   "id": "b580167c",
   "metadata": {},
   "outputs": [
    {
     "data": {
      "text/plain": [
       "array([[0., 0.],\n",
       "       [0., 0.],\n",
       "       [0., 0.],\n",
       "       [0., 0.],\n",
       "       [0., 0.],\n",
       "       [0., 0.],\n",
       "       [0., 0.],\n",
       "       [0., 0.],\n",
       "       [0., 0.],\n",
       "       [0., 0.]])"
      ]
     },
     "execution_count": 68,
     "metadata": {},
     "output_type": "execute_result"
    }
   ],
   "source": [
    "np.zeros((10,2))     ##'zeros'  #zero array of size 10 * 2...10 rows and 2 columns"
   ]
  },
  {
   "cell_type": "code",
   "execution_count": 69,
   "id": "6fbc0a24",
   "metadata": {},
   "outputs": [
    {
     "data": {
      "text/plain": [
       "array([[0., 0., 0., 0., 0., 0., 0.],\n",
       "       [0., 0., 0., 0., 0., 0., 0.],\n",
       "       [0., 0., 0., 0., 0., 0., 0.],\n",
       "       [0., 0., 0., 0., 0., 0., 0.],\n",
       "       [0., 0., 0., 0., 0., 0., 0.]])"
      ]
     },
     "execution_count": 69,
     "metadata": {},
     "output_type": "execute_result"
    }
   ],
   "source": [
    "np.zeros((5,7))      # default numpy takes float values all the time"
   ]
  },
  {
   "cell_type": "code",
   "execution_count": 70,
   "id": "df893d5f",
   "metadata": {},
   "outputs": [
    {
     "data": {
      "text/plain": [
       "array([[0, 0, 0, 0, 0, 0, 0],\n",
       "       [0, 0, 0, 0, 0, 0, 0],\n",
       "       [0, 0, 0, 0, 0, 0, 0],\n",
       "       [0, 0, 0, 0, 0, 0, 0],\n",
       "       [0, 0, 0, 0, 0, 0, 0]])"
      ]
     },
     "execution_count": 70,
     "metadata": {},
     "output_type": "execute_result"
    }
   ],
   "source": [
    "np.zeros((5,7),dtype=int)"
   ]
  },
  {
   "cell_type": "code",
   "execution_count": 71,
   "id": "4fb1590a",
   "metadata": {},
   "outputs": [
    {
     "data": {
      "text/plain": [
       "array([[0, 0, 0, 0, 0, 0, 0],\n",
       "       [0, 0, 0, 0, 0, 0, 0],\n",
       "       [0, 0, 0, 0, 0, 0, 0],\n",
       "       [0, 0, 0, 0, 0, 0, 0],\n",
       "       [0, 0, 0, 0, 0, 0, 0]], dtype=object)"
      ]
     },
     "execution_count": 71,
     "metadata": {},
     "output_type": "execute_result"
    }
   ],
   "source": [
    "#or\n",
    "np.zeros((5,7),type(int))"
   ]
  },
  {
   "cell_type": "code",
   "execution_count": 72,
   "id": "91640b92",
   "metadata": {},
   "outputs": [
    {
     "data": {
      "text/plain": [
       "array([[100., 100., 100., 100., 100., 100., 100.],\n",
       "       [100., 100., 100., 100., 100., 100., 100.],\n",
       "       [100., 100., 100., 100., 100., 100., 100.],\n",
       "       [100., 100., 100., 100., 100., 100., 100.],\n",
       "       [100., 100., 100., 100., 100., 100., 100.]])"
      ]
     },
     "execution_count": 72,
     "metadata": {},
     "output_type": "execute_result"
    }
   ],
   "source": [
    "np.zeros((5,7))+100"
   ]
  },
  {
   "cell_type": "code",
   "execution_count": null,
   "id": "5b5115da",
   "metadata": {},
   "outputs": [],
   "source": []
  },
  {
   "cell_type": "code",
   "execution_count": 73,
   "id": "f5912830",
   "metadata": {},
   "outputs": [],
   "source": [
    "##Python LIST\n",
    "\n",
    "a=[1,2,3,4]\n",
    "b=[6,7,8,9]"
   ]
  },
  {
   "cell_type": "code",
   "execution_count": 74,
   "id": "5fc2fc36",
   "metadata": {},
   "outputs": [
    {
     "name": "stdout",
     "output_type": "stream",
     "text": [
      "[1, 2, 3, 4, 6, 7, 8, 9]\n"
     ]
    }
   ],
   "source": [
    "print(a+b)     #extending the list, not performing the maths operation"
   ]
  },
  {
   "cell_type": "code",
   "execution_count": 75,
   "id": "eb5a28c1",
   "metadata": {},
   "outputs": [],
   "source": [
    "## Numpy Array \n",
    "\n",
    "c=np.array([1,2,3,4])\n",
    "d=np.array([6,7,8,9])"
   ]
  },
  {
   "cell_type": "code",
   "execution_count": 76,
   "id": "43440f68",
   "metadata": {},
   "outputs": [
    {
     "name": "stdout",
     "output_type": "stream",
     "text": [
      "[ 7  9 11 13]\n",
      "[-5 -5 -5 -5]\n"
     ]
    }
   ],
   "source": [
    "print(c+d)\n",
    "print(c-d)\n",
    "                          #See the difference btwn numpy array  & python list"
   ]
  },
  {
   "cell_type": "code",
   "execution_count": 77,
   "id": "25833d42",
   "metadata": {},
   "outputs": [],
   "source": [
    "#Numpy arrray performs more maths operations over list"
   ]
  },
  {
   "cell_type": "code",
   "execution_count": null,
   "id": "3e832418",
   "metadata": {},
   "outputs": [],
   "source": []
  },
  {
   "cell_type": "code",
   "execution_count": 78,
   "id": "8b77f44a",
   "metadata": {},
   "outputs": [],
   "source": [
    "x=np.array([1,2,3,4])\n",
    "y=np.array([6,7,8])"
   ]
  },
  {
   "cell_type": "code",
   "execution_count": 79,
   "id": "4d1a489d",
   "metadata": {},
   "outputs": [
    {
     "ename": "ValueError",
     "evalue": "operands could not be broadcast together with shapes (4,) (3,) ",
     "output_type": "error",
     "traceback": [
      "\u001b[1;31m---------------------------------------------------------------------------\u001b[0m",
      "\u001b[1;31mValueError\u001b[0m                                Traceback (most recent call last)",
      "Input \u001b[1;32mIn [79]\u001b[0m, in \u001b[0;36m<cell line: 1>\u001b[1;34m()\u001b[0m\n\u001b[1;32m----> 1\u001b[0m \u001b[43mx\u001b[49m\u001b[38;5;241;43m+\u001b[39;49m\u001b[43my\u001b[49m\n",
      "\u001b[1;31mValueError\u001b[0m: operands could not be broadcast together with shapes (4,) (3,) "
     ]
    }
   ],
   "source": [
    "x+y      #x+y gives error...#arrays should be of same zize"
   ]
  },
  {
   "cell_type": "code",
   "execution_count": null,
   "id": "ec4d2da5",
   "metadata": {},
   "outputs": [],
   "source": []
  },
  {
   "cell_type": "code",
   "execution_count": 80,
   "id": "ef97b552",
   "metadata": {},
   "outputs": [
    {
     "data": {
      "text/plain": [
       "array([[1., 0., 0.],\n",
       "       [0., 1., 0.],\n",
       "       [0., 0., 1.]])"
      ]
     },
     "execution_count": 80,
     "metadata": {},
     "output_type": "execute_result"
    }
   ],
   "source": [
    "np.eye(3,3)   #identity matrix"
   ]
  },
  {
   "cell_type": "code",
   "execution_count": 81,
   "id": "5309af40",
   "metadata": {},
   "outputs": [],
   "source": [
    "#nested arrays..\n",
    "u=np.array([[1,2,3,4],[5,6,7,8],[9,10,11,12]])"
   ]
  },
  {
   "cell_type": "code",
   "execution_count": 82,
   "id": "54643fc8",
   "metadata": {},
   "outputs": [
    {
     "data": {
      "text/plain": [
       "array([[ 1,  2,  3,  4],\n",
       "       [ 5,  6,  7,  8],\n",
       "       [ 9, 10, 11, 12]])"
      ]
     },
     "execution_count": 82,
     "metadata": {},
     "output_type": "execute_result"
    }
   ],
   "source": [
    "u"
   ]
  },
  {
   "cell_type": "code",
   "execution_count": 83,
   "id": "23b18682",
   "metadata": {},
   "outputs": [
    {
     "data": {
      "text/plain": [
       "array([[1, 2, 3, 4]])"
      ]
     },
     "execution_count": 83,
     "metadata": {},
     "output_type": "execute_result"
    }
   ],
   "source": [
    "u[0:1]"
   ]
  },
  {
   "cell_type": "markdown",
   "id": "8cb8247c",
   "metadata": {},
   "source": []
  },
  {
   "cell_type": "code",
   "execution_count": 84,
   "id": "42bc505c",
   "metadata": {},
   "outputs": [
    {
     "data": {
      "text/plain": [
       "array([[2],\n",
       "       [6]])"
      ]
     },
     "execution_count": 84,
     "metadata": {},
     "output_type": "execute_result"
    }
   ],
   "source": [
    "u[0:2,1:2]"
   ]
  },
  {
   "cell_type": "code",
   "execution_count": 85,
   "id": "4d66981f",
   "metadata": {},
   "outputs": [
    {
     "data": {
      "text/plain": [
       "array([[ 7,  8],\n",
       "       [11, 12]])"
      ]
     },
     "execution_count": 85,
     "metadata": {},
     "output_type": "execute_result"
    }
   ],
   "source": [
    "#print 7,8,11,12 from above      ##..write the row no. 1st and coloumn no. next\n",
    "u[1:3,2:4]"
   ]
  },
  {
   "cell_type": "code",
   "execution_count": 86,
   "id": "85cbf878",
   "metadata": {},
   "outputs": [
    {
     "data": {
      "text/plain": [
       "array([[3, 4],\n",
       "       [7, 8]])"
      ]
     },
     "execution_count": 86,
     "metadata": {},
     "output_type": "execute_result"
    }
   ],
   "source": [
    "#print 3,4,7,8 from above\n",
    "u[0:2,2:4]"
   ]
  },
  {
   "cell_type": "code",
   "execution_count": 87,
   "id": "163b83ea",
   "metadata": {},
   "outputs": [
    {
     "data": {
      "text/plain": [
       "array([[ 5,  6],\n",
       "       [ 9, 10]])"
      ]
     },
     "execution_count": 87,
     "metadata": {},
     "output_type": "execute_result"
    }
   ],
   "source": [
    "#print 5,6,9,19 from above\n",
    "u[1:3,0:2]"
   ]
  },
  {
   "cell_type": "code",
   "execution_count": 88,
   "id": "dd7898ce",
   "metadata": {},
   "outputs": [
    {
     "data": {
      "text/plain": [
       "array([[ 5,  6,  7,  8],\n",
       "       [ 9, 10, 11, 12]])"
      ]
     },
     "execution_count": 88,
     "metadata": {},
     "output_type": "execute_result"
    }
   ],
   "source": [
    "u[1:4]"
   ]
  },
  {
   "cell_type": "code",
   "execution_count": 89,
   "id": "55617594",
   "metadata": {},
   "outputs": [
    {
     "data": {
      "text/plain": [
       "array([[ 1,  2,  3,  4],\n",
       "       [ 5,  6,  7,  8],\n",
       "       [ 9, 10, 11, 12]])"
      ]
     },
     "execution_count": 89,
     "metadata": {},
     "output_type": "execute_result"
    }
   ],
   "source": [
    "u"
   ]
  },
  {
   "cell_type": "code",
   "execution_count": 90,
   "id": "e94ff15c",
   "metadata": {},
   "outputs": [
    {
     "data": {
      "text/plain": [
       "array([[  1,   4,   9,  16],\n",
       "       [ 25,  36,  49,  64],\n",
       "       [ 81, 100, 121, 144]], dtype=int32)"
      ]
     },
     "execution_count": 90,
     "metadata": {},
     "output_type": "execute_result"
    }
   ],
   "source": [
    "u**2   #square"
   ]
  },
  {
   "cell_type": "code",
   "execution_count": 91,
   "id": "e9351276",
   "metadata": {},
   "outputs": [
    {
     "data": {
      "text/plain": [
       "array([[   1,    8,   27,   64],\n",
       "       [ 125,  216,  343,  512],\n",
       "       [ 729, 1000, 1331, 1728]], dtype=int32)"
      ]
     },
     "execution_count": 91,
     "metadata": {},
     "output_type": "execute_result"
    }
   ],
   "source": [
    "u**3   #cube"
   ]
  },
  {
   "cell_type": "code",
   "execution_count": 92,
   "id": "3e1d7001",
   "metadata": {},
   "outputs": [
    {
     "data": {
      "text/plain": [
       "array([[    1,    16,    81,   256],\n",
       "       [  625,  1296,  2401,  4096],\n",
       "       [ 6561, 10000, 14641, 20736]], dtype=int32)"
      ]
     },
     "execution_count": 92,
     "metadata": {},
     "output_type": "execute_result"
    }
   ],
   "source": [
    "u**4"
   ]
  },
  {
   "cell_type": "code",
   "execution_count": null,
   "id": "a08c2555",
   "metadata": {},
   "outputs": [],
   "source": []
  },
  {
   "cell_type": "code",
   "execution_count": 93,
   "id": "3ea06462",
   "metadata": {},
   "outputs": [
    {
     "data": {
      "text/plain": [
       "(3, 4)"
      ]
     },
     "execution_count": 93,
     "metadata": {},
     "output_type": "execute_result"
    }
   ],
   "source": [
    "u.shape    #shape of u is 3 rows and 4 coloumns as above"
   ]
  },
  {
   "cell_type": "code",
   "execution_count": 94,
   "id": "0a9469b5",
   "metadata": {},
   "outputs": [],
   "source": [
    "z=np.array([1,2,3])"
   ]
  },
  {
   "cell_type": "code",
   "execution_count": 95,
   "id": "115d7424",
   "metadata": {},
   "outputs": [
    {
     "data": {
      "text/plain": [
       "(3,)"
      ]
     },
     "execution_count": 95,
     "metadata": {},
     "output_type": "execute_result"
    }
   ],
   "source": [
    "z.shape #shape of z is 3 only"
   ]
  },
  {
   "cell_type": "code",
   "execution_count": null,
   "id": "4fb78a5a",
   "metadata": {},
   "outputs": [],
   "source": []
  },
  {
   "cell_type": "code",
   "execution_count": 96,
   "id": "7130b0ee",
   "metadata": {},
   "outputs": [
    {
     "data": {
      "text/plain": [
       "array([[ 1,  2,  3,  4],\n",
       "       [ 5,  6,  7,  8],\n",
       "       [ 9, 10, 11, 12]])"
      ]
     },
     "execution_count": 96,
     "metadata": {},
     "output_type": "execute_result"
    }
   ],
   "source": [
    "# Dimension of array... should type \" .ndim \"\n",
    "\n",
    "u\n"
   ]
  },
  {
   "cell_type": "code",
   "execution_count": 97,
   "id": "87d6da15",
   "metadata": {},
   "outputs": [
    {
     "data": {
      "text/plain": [
       "2"
      ]
     },
     "execution_count": 97,
     "metadata": {},
     "output_type": "execute_result"
    }
   ],
   "source": [
    "u.ndim                                       ##2D array"
   ]
  },
  {
   "cell_type": "code",
   "execution_count": 98,
   "id": "d3cfc2b3",
   "metadata": {},
   "outputs": [],
   "source": [
    "qw=np.array([12,13,14])"
   ]
  },
  {
   "cell_type": "code",
   "execution_count": 99,
   "id": "ffe22338",
   "metadata": {},
   "outputs": [
    {
     "data": {
      "text/plain": [
       "array([12, 13, 14])"
      ]
     },
     "execution_count": 99,
     "metadata": {},
     "output_type": "execute_result"
    }
   ],
   "source": [
    "qw\n"
   ]
  },
  {
   "cell_type": "code",
   "execution_count": 100,
   "id": "ab890f43",
   "metadata": {},
   "outputs": [
    {
     "data": {
      "text/plain": [
       "1"
      ]
     },
     "execution_count": 100,
     "metadata": {},
     "output_type": "execute_result"
    }
   ],
   "source": [
    "qw.ndim    #1D array"
   ]
  },
  {
   "cell_type": "code",
   "execution_count": 101,
   "id": "8f964be7",
   "metadata": {},
   "outputs": [
    {
     "data": {
      "text/plain": [
       "3"
      ]
     },
     "execution_count": 101,
     "metadata": {},
     "output_type": "execute_result"
    }
   ],
   "source": [
    "#Size of array\n",
    "\n",
    "qw.size"
   ]
  },
  {
   "cell_type": "code",
   "execution_count": 102,
   "id": "de7c7783",
   "metadata": {},
   "outputs": [
    {
     "data": {
      "text/plain": [
       "12"
      ]
     },
     "execution_count": 102,
     "metadata": {},
     "output_type": "execute_result"
    }
   ],
   "source": [
    "u.size"
   ]
  },
  {
   "cell_type": "code",
   "execution_count": 103,
   "id": "0e8b20d5",
   "metadata": {},
   "outputs": [
    {
     "data": {
      "text/plain": [
       "dtype('int32')"
      ]
     },
     "execution_count": 103,
     "metadata": {},
     "output_type": "execute_result"
    }
   ],
   "source": [
    "#datatype of aary\n",
    "\n",
    "u.dtype"
   ]
  },
  {
   "cell_type": "code",
   "execution_count": 104,
   "id": "9cead477",
   "metadata": {},
   "outputs": [
    {
     "data": {
      "text/plain": [
       "dtype('int32')"
      ]
     },
     "execution_count": 104,
     "metadata": {},
     "output_type": "execute_result"
    }
   ],
   "source": [
    "qw.dtype"
   ]
  },
  {
   "cell_type": "code",
   "execution_count": null,
   "id": "99671318",
   "metadata": {},
   "outputs": [],
   "source": []
  },
  {
   "cell_type": "code",
   "execution_count": 105,
   "id": "34a437be",
   "metadata": {},
   "outputs": [],
   "source": [
    "## RESHAPE the array"
   ]
  },
  {
   "cell_type": "code",
   "execution_count": 106,
   "id": "1a6d422e",
   "metadata": {},
   "outputs": [],
   "source": [
    "a=np.arange(1,17)"
   ]
  },
  {
   "cell_type": "code",
   "execution_count": 107,
   "id": "0516a90b",
   "metadata": {},
   "outputs": [
    {
     "data": {
      "text/plain": [
       "array([ 1,  2,  3,  4,  5,  6,  7,  8,  9, 10, 11, 12, 13, 14, 15, 16])"
      ]
     },
     "execution_count": 107,
     "metadata": {},
     "output_type": "execute_result"
    }
   ],
   "source": [
    "a\n"
   ]
  },
  {
   "cell_type": "code",
   "execution_count": 108,
   "id": "a7368881",
   "metadata": {},
   "outputs": [
    {
     "data": {
      "text/plain": [
       "array([[ 1,  2,  3,  4],\n",
       "       [ 5,  6,  7,  8],\n",
       "       [ 9, 10, 11, 12],\n",
       "       [13, 14, 15, 16]])"
      ]
     },
     "execution_count": 108,
     "metadata": {},
     "output_type": "execute_result"
    }
   ],
   "source": [
    "a.reshape(4,4)"
   ]
  },
  {
   "cell_type": "code",
   "execution_count": 109,
   "id": "9b915624",
   "metadata": {},
   "outputs": [
    {
     "data": {
      "text/plain": [
       "array([ 1,  2,  3,  4,  5,  6,  7,  8,  9, 10, 11, 12, 13, 14, 15, 16])"
      ]
     },
     "execution_count": 109,
     "metadata": {},
     "output_type": "execute_result"
    }
   ],
   "source": [
    "a"
   ]
  },
  {
   "cell_type": "code",
   "execution_count": 110,
   "id": "38fd6f71",
   "metadata": {},
   "outputs": [],
   "source": [
    "#so..we'll do this..\n",
    "newa=a.reshape(4,4)"
   ]
  },
  {
   "cell_type": "code",
   "execution_count": 111,
   "id": "21ea7e80",
   "metadata": {},
   "outputs": [
    {
     "data": {
      "text/plain": [
       "array([[ 1,  2,  3,  4],\n",
       "       [ 5,  6,  7,  8],\n",
       "       [ 9, 10, 11, 12],\n",
       "       [13, 14, 15, 16]])"
      ]
     },
     "execution_count": 111,
     "metadata": {},
     "output_type": "execute_result"
    }
   ],
   "source": [
    "newa    #2D"
   ]
  },
  {
   "cell_type": "code",
   "execution_count": 112,
   "id": "5bb890a9",
   "metadata": {},
   "outputs": [
    {
     "data": {
      "text/plain": [
       "2"
      ]
     },
     "execution_count": 112,
     "metadata": {},
     "output_type": "execute_result"
    }
   ],
   "source": [
    "newa.ndim"
   ]
  },
  {
   "cell_type": "code",
   "execution_count": 113,
   "id": "cb2c7f7b",
   "metadata": {},
   "outputs": [
    {
     "data": {
      "text/plain": [
       "(4, 4)"
      ]
     },
     "execution_count": 113,
     "metadata": {},
     "output_type": "execute_result"
    }
   ],
   "source": [
    "newa.shape"
   ]
  },
  {
   "cell_type": "code",
   "execution_count": 114,
   "id": "652aa943",
   "metadata": {},
   "outputs": [
    {
     "data": {
      "text/plain": [
       "16"
      ]
     },
     "execution_count": 114,
     "metadata": {},
     "output_type": "execute_result"
    }
   ],
   "source": [
    "newa.size"
   ]
  },
  {
   "cell_type": "code",
   "execution_count": 115,
   "id": "54df1088",
   "metadata": {},
   "outputs": [
    {
     "ename": "ValueError",
     "evalue": "cannot reshape array of size 16 into shape (4,3)",
     "output_type": "error",
     "traceback": [
      "\u001b[1;31m---------------------------------------------------------------------------\u001b[0m",
      "\u001b[1;31mValueError\u001b[0m                                Traceback (most recent call last)",
      "Input \u001b[1;32mIn [115]\u001b[0m, in \u001b[0;36m<cell line: 1>\u001b[1;34m()\u001b[0m\n\u001b[1;32m----> 1\u001b[0m newa\u001b[38;5;241m=\u001b[39m\u001b[43ma\u001b[49m\u001b[38;5;241;43m.\u001b[39;49m\u001b[43mreshape\u001b[49m\u001b[43m(\u001b[49m\u001b[38;5;241;43m4\u001b[39;49m\u001b[43m,\u001b[49m\u001b[38;5;241;43m3\u001b[39;49m\u001b[43m)\u001b[49m\n",
      "\u001b[1;31mValueError\u001b[0m: cannot reshape array of size 16 into shape (4,3)"
     ]
    }
   ],
   "source": [
    "newa=a.reshape(4,3)"
   ]
  },
  {
   "cell_type": "code",
   "execution_count": 116,
   "id": "9dc2a3bd",
   "metadata": {},
   "outputs": [
    {
     "ename": "ValueError",
     "evalue": "cannot reshape array of size 16 into shape (3,5,2)",
     "output_type": "error",
     "traceback": [
      "\u001b[1;31m---------------------------------------------------------------------------\u001b[0m",
      "\u001b[1;31mValueError\u001b[0m                                Traceback (most recent call last)",
      "Input \u001b[1;32mIn [116]\u001b[0m, in \u001b[0;36m<cell line: 1>\u001b[1;34m()\u001b[0m\n\u001b[1;32m----> 1\u001b[0m \u001b[43mnewa\u001b[49m\u001b[38;5;241;43m.\u001b[39;49m\u001b[43mreshape\u001b[49m\u001b[43m(\u001b[49m\u001b[38;5;241;43m3\u001b[39;49m\u001b[43m,\u001b[49m\u001b[38;5;241;43m5\u001b[39;49m\u001b[43m,\u001b[49m\u001b[38;5;241;43m2\u001b[39;49m\u001b[43m)\u001b[49m\n",
      "\u001b[1;31mValueError\u001b[0m: cannot reshape array of size 16 into shape (3,5,2)"
     ]
    }
   ],
   "source": [
    "newa.reshape(3,5,2)"
   ]
  },
  {
   "cell_type": "code",
   "execution_count": 117,
   "id": "5ac53862",
   "metadata": {},
   "outputs": [],
   "source": [
    "newb=newa.reshape(2,2,4)        ##3D array"
   ]
  },
  {
   "cell_type": "code",
   "execution_count": 118,
   "id": "86b68152",
   "metadata": {},
   "outputs": [
    {
     "data": {
      "text/plain": [
       "array([[[ 1,  2,  3,  4],\n",
       "        [ 5,  6,  7,  8]],\n",
       "\n",
       "       [[ 9, 10, 11, 12],\n",
       "        [13, 14, 15, 16]]])"
      ]
     },
     "execution_count": 118,
     "metadata": {},
     "output_type": "execute_result"
    }
   ],
   "source": [
    "newb"
   ]
  },
  {
   "cell_type": "code",
   "execution_count": 119,
   "id": "1e7b4ee8",
   "metadata": {},
   "outputs": [
    {
     "data": {
      "text/plain": [
       "9"
      ]
     },
     "execution_count": 119,
     "metadata": {},
     "output_type": "execute_result"
    }
   ],
   "source": [
    "#try to find 9 from above...\n",
    "                                       #imagine a 3d figure \n",
    "newb[1,0,0]"
   ]
  },
  {
   "cell_type": "code",
   "execution_count": 120,
   "id": "8cb9dca9",
   "metadata": {},
   "outputs": [
    {
     "data": {
      "text/plain": [
       "6"
      ]
     },
     "execution_count": 120,
     "metadata": {},
     "output_type": "execute_result"
    }
   ],
   "source": [
    "#try finding 6..\n",
    "newb[0,1,1]"
   ]
  },
  {
   "cell_type": "code",
   "execution_count": null,
   "id": "d8502ca3",
   "metadata": {},
   "outputs": [],
   "source": []
  },
  {
   "cell_type": "code",
   "execution_count": 121,
   "id": "3355d89a",
   "metadata": {},
   "outputs": [
    {
     "data": {
      "text/plain": [
       "array([[ 1,  2,  3,  4],\n",
       "       [ 5,  6,  7,  8],\n",
       "       [ 9, 10, 11, 12],\n",
       "       [13, 14, 15, 16]])"
      ]
     },
     "execution_count": 121,
     "metadata": {},
     "output_type": "execute_result"
    }
   ],
   "source": [
    "newa"
   ]
  },
  {
   "cell_type": "code",
   "execution_count": 122,
   "id": "49eb7831",
   "metadata": {},
   "outputs": [
    {
     "data": {
      "text/plain": [
       "array([ 1,  6, 11, 16])"
      ]
     },
     "execution_count": 122,
     "metadata": {},
     "output_type": "execute_result"
    }
   ],
   "source": [
    "np.diag(newa)            ## Printing Diagnol"
   ]
  },
  {
   "cell_type": "code",
   "execution_count": 123,
   "id": "4f355a7c",
   "metadata": {},
   "outputs": [],
   "source": [
    "##Random number generation form..\n",
    "\n",
    "#i did not understand this.. should watch the recording 2nd time.. "
   ]
  },
  {
   "cell_type": "code",
   "execution_count": null,
   "id": "b9c6ab1c",
   "metadata": {},
   "outputs": [],
   "source": []
  },
  {
   "cell_type": "code",
   "execution_count": null,
   "id": "1d37fe60",
   "metadata": {},
   "outputs": [],
   "source": []
  },
  {
   "cell_type": "code",
   "execution_count": null,
   "id": "99b8a4f9",
   "metadata": {},
   "outputs": [],
   "source": []
  },
  {
   "cell_type": "code",
   "execution_count": 124,
   "id": "56d8dafe",
   "metadata": {},
   "outputs": [],
   "source": [
    "##Random Number Generation\n"
   ]
  },
  {
   "cell_type": "code",
   "execution_count": 125,
   "id": "ec0552f5",
   "metadata": {},
   "outputs": [
    {
     "data": {
      "text/plain": [
       "array([[0.19883697, 0.69314255, 0.18162075],\n",
       "       [0.51591026, 0.80636942, 0.69233503]])"
      ]
     },
     "execution_count": 125,
     "metadata": {},
     "output_type": "execute_result"
    }
   ],
   "source": [
    "np.random.rand(2,3)    #random array sixe of 2*3 will be created"
   ]
  },
  {
   "cell_type": "code",
   "execution_count": 126,
   "id": "6fcf4f37",
   "metadata": {},
   "outputs": [
    {
     "data": {
      "text/plain": [
       "array([1, 7, 2, 2, 9, 5])"
      ]
     },
     "execution_count": 126,
     "metadata": {},
     "output_type": "execute_result"
    }
   ],
   "source": [
    "np.random.randint(1,10,6)   #give me 6 random integers btwn 1 and 10"
   ]
  },
  {
   "cell_type": "code",
   "execution_count": null,
   "id": "53e28d4d",
   "metadata": {},
   "outputs": [],
   "source": []
  },
  {
   "cell_type": "code",
   "execution_count": 127,
   "id": "75c530d7",
   "metadata": {},
   "outputs": [],
   "source": [
    "#Random Seed.... It is just a value that we give randomly"
   ]
  },
  {
   "cell_type": "code",
   "execution_count": 128,
   "id": "db909fb3",
   "metadata": {},
   "outputs": [
    {
     "data": {
      "text/plain": [
       "array([4, 7, 9, 3, 1])"
      ]
     },
     "execution_count": 128,
     "metadata": {},
     "output_type": "execute_result"
    }
   ],
   "source": [
    "np.random.seed(1334)      \n",
    "np.random.randint(1,10,5)\n",
    "#surya and gurpreet                 #Surya & GP will get the same array data as random seed is same"
   ]
  },
  {
   "cell_type": "code",
   "execution_count": 129,
   "id": "d38dfd3b",
   "metadata": {},
   "outputs": [
    {
     "data": {
      "text/plain": [
       "array([14,  3,  3,  7])"
      ]
     },
     "execution_count": 129,
     "metadata": {},
     "output_type": "execute_result"
    }
   ],
   "source": [
    "np.random.seed(123)      \n",
    "np.random.randint(1,20,4)\n",
    "# Augustine and Richard             #Augustine and richard will get the same array data as random seed is same"
   ]
  },
  {
   "cell_type": "code",
   "execution_count": 143,
   "id": "b4caec7c",
   "metadata": {},
   "outputs": [
    {
     "data": {
      "text/plain": [
       "array([3, 3, 7, 2, 4, 7, 2])"
      ]
     },
     "execution_count": 143,
     "metadata": {},
     "output_type": "execute_result"
    }
   ],
   "source": [
    "np.random.seed(123)      \n",
    "np.random.randint(1,10,7)"
   ]
  },
  {
   "cell_type": "code",
   "execution_count": 169,
   "id": "4e2df514",
   "metadata": {},
   "outputs": [],
   "source": [
    "np.random.seed(12345)  \n",
    "a=np.random.randint(1,24,6).reshape(3,2)\n",
    "b=np.random.randint(1,30,6).reshape(3,2)"
   ]
  },
  {
   "cell_type": "code",
   "execution_count": 170,
   "id": "951f301f",
   "metadata": {},
   "outputs": [
    {
     "data": {
      "text/plain": [
       "array([[ 3,  6],\n",
       "       [ 2,  5],\n",
       "       [10,  6]])"
      ]
     },
     "execution_count": 170,
     "metadata": {},
     "output_type": "execute_result"
    }
   ],
   "source": [
    "a"
   ]
  },
  {
   "cell_type": "code",
   "execution_count": 171,
   "id": "3d7123ea",
   "metadata": {},
   "outputs": [
    {
     "data": {
      "text/plain": [
       "array([[ 3,  2],\n",
       "       [23, 18],\n",
       "       [28, 15]])"
      ]
     },
     "execution_count": 171,
     "metadata": {},
     "output_type": "execute_result"
    }
   ],
   "source": [
    "b"
   ]
  },
  {
   "cell_type": "code",
   "execution_count": null,
   "id": "8abbb0f5",
   "metadata": {},
   "outputs": [],
   "source": []
  },
  {
   "cell_type": "code",
   "execution_count": null,
   "id": "6de451d5",
   "metadata": {},
   "outputs": [],
   "source": [
    "##Maths Operations"
   ]
  },
  {
   "cell_type": "code",
   "execution_count": 164,
   "id": "69dfc86e",
   "metadata": {},
   "outputs": [
    {
     "data": {
      "text/plain": [
       "array([[1.73205081, 2.44948974],\n",
       "       [1.41421356, 2.23606798],\n",
       "       [3.16227766, 2.44948974]])"
      ]
     },
     "execution_count": 164,
     "metadata": {},
     "output_type": "execute_result"
    }
   ],
   "source": [
    "np.sqrt(a)  #square root"
   ]
  },
  {
   "cell_type": "code",
   "execution_count": 187,
   "id": "5f937c69",
   "metadata": {},
   "outputs": [
    {
     "data": {
      "text/plain": [
       "array([[ 6,  8],\n",
       "       [25, 23],\n",
       "       [38, 21]])"
      ]
     },
     "execution_count": 187,
     "metadata": {},
     "output_type": "execute_result"
    }
   ],
   "source": [
    "np.add(a,b)"
   ]
  },
  {
   "cell_type": "code",
   "execution_count": 175,
   "id": "86357b00",
   "metadata": {},
   "outputs": [
    {
     "data": {
      "text/plain": [
       "array([[  9,  12],\n",
       "       [ 46,  90],\n",
       "       [280,  90]])"
      ]
     },
     "execution_count": 175,
     "metadata": {},
     "output_type": "execute_result"
    }
   ],
   "source": [
    "np.multiply(a,b)"
   ]
  },
  {
   "cell_type": "code",
   "execution_count": 176,
   "id": "6f93b996",
   "metadata": {},
   "outputs": [
    {
     "data": {
      "text/plain": [
       "array([[1.        , 3.        ],\n",
       "       [0.08695652, 0.27777778],\n",
       "       [0.35714286, 0.4       ]])"
      ]
     },
     "execution_count": 176,
     "metadata": {},
     "output_type": "execute_result"
    }
   ],
   "source": [
    "np.divide(a,b)"
   ]
  },
  {
   "cell_type": "code",
   "execution_count": 178,
   "id": "d339b26d",
   "metadata": {},
   "outputs": [
    {
     "data": {
      "text/plain": [
       "5.333333333333333"
      ]
     },
     "execution_count": 178,
     "metadata": {},
     "output_type": "execute_result"
    }
   ],
   "source": [
    "np.mean(a)"
   ]
  },
  {
   "cell_type": "code",
   "execution_count": 179,
   "id": "d2aff788",
   "metadata": {},
   "outputs": [
    {
     "data": {
      "text/plain": [
       "14.833333333333334"
      ]
     },
     "execution_count": 179,
     "metadata": {},
     "output_type": "execute_result"
    }
   ],
   "source": [
    "np.mean(b)"
   ]
  },
  {
   "cell_type": "code",
   "execution_count": 181,
   "id": "132db884",
   "metadata": {},
   "outputs": [
    {
     "data": {
      "text/plain": [
       "5.5"
      ]
     },
     "execution_count": 181,
     "metadata": {},
     "output_type": "execute_result"
    }
   ],
   "source": [
    "np.median(a)"
   ]
  },
  {
   "cell_type": "code",
   "execution_count": 182,
   "id": "4ef55e4b",
   "metadata": {},
   "outputs": [
    {
     "data": {
      "text/plain": [
       "9.616247824501105"
      ]
     },
     "execution_count": 182,
     "metadata": {},
     "output_type": "execute_result"
    }
   ],
   "source": [
    "np.std(b)   #standard deviation"
   ]
  },
  {
   "cell_type": "code",
   "execution_count": 184,
   "id": "30f6d76e",
   "metadata": {},
   "outputs": [
    {
     "data": {
      "text/plain": [
       "92.47222222222224"
      ]
     },
     "execution_count": 184,
     "metadata": {},
     "output_type": "execute_result"
    }
   ],
   "source": [
    "np.var(b)  #variance"
   ]
  },
  {
   "cell_type": "code",
   "execution_count": 194,
   "id": "3731b967",
   "metadata": {},
   "outputs": [
    {
     "data": {
      "text/plain": [
       "array([[0.47712125, 0.77815125],\n",
       "       [0.30103   , 0.69897   ],\n",
       "       [1.        , 0.77815125]])"
      ]
     },
     "execution_count": 194,
     "metadata": {},
     "output_type": "execute_result"
    }
   ],
   "source": [
    "np.log10(a) #log10"
   ]
  },
  {
   "cell_type": "code",
   "execution_count": 188,
   "id": "9ef0797a",
   "metadata": {},
   "outputs": [
    {
     "data": {
      "text/plain": [
       "10"
      ]
     },
     "execution_count": 188,
     "metadata": {},
     "output_type": "execute_result"
    }
   ],
   "source": [
    "np.max(a) #max number"
   ]
  },
  {
   "cell_type": "code",
   "execution_count": 195,
   "id": "5b05d6e4",
   "metadata": {},
   "outputs": [
    {
     "data": {
      "text/plain": [
       "2"
      ]
     },
     "execution_count": 195,
     "metadata": {},
     "output_type": "execute_result"
    }
   ],
   "source": [
    "np.min(b) #min number"
   ]
  },
  {
   "cell_type": "code",
   "execution_count": null,
   "id": "89a4fdf7",
   "metadata": {},
   "outputs": [],
   "source": []
  }
 ],
 "metadata": {
  "kernelspec": {
   "display_name": "Python 3 (ipykernel)",
   "language": "python",
   "name": "python3"
  },
  "language_info": {
   "codemirror_mode": {
    "name": "ipython",
    "version": 3
   },
   "file_extension": ".py",
   "mimetype": "text/x-python",
   "name": "python",
   "nbconvert_exporter": "python",
   "pygments_lexer": "ipython3",
   "version": "3.9.7"
  }
 },
 "nbformat": 4,
 "nbformat_minor": 5
}
